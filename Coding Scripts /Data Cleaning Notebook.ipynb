{
  "nbformat": 4,
  "nbformat_minor": 0,
  "metadata": {
    "colab": {
      "name": "General Dataset.ipynb",
      "provenance": [],
      "collapsed_sections": [
        "asiQCZTtyRY5"
      ]
    },
    "kernelspec": {
      "name": "python3",
      "display_name": "Python 3"
    },
    "language_info": {
      "name": "python"
    }
  },
  "cells": [
    {
      "cell_type": "code",
      "metadata": {
        "id": "t4Lv6ulNU4zJ"
      },
      "source": [
        "from google.colab import files\n",
        "uploaded = files.upload()"
      ],
      "execution_count": null,
      "outputs": []
    },
    {
      "cell_type": "code",
      "metadata": {
        "id": "JaG-G8P_VL-f"
      },
      "source": [
        "import pandas as pd\n",
        "\n",
        "#data = pd.read_csv(\"jiradataset_issues_v1.4.csv\")\n",
        "data = pd.read_csv(\"jiradataset_changelog_v1.4.csv\")\n",
        "\n",
        "print(\"\\n******************************\\n\")\n",
        "print(\"Printing Dataset Initial Shape: \")\n",
        "print(data.shape)\n",
        "print(\"\\n******************************\\n\")\n",
        "print(\"Printing Dataset Initial Descriptives: \")\n",
        "print(data.describe())\n",
        "print(\"\\n******************************\\n\")"
      ],
      "execution_count": null,
      "outputs": []
    },
    {
      "cell_type": "code",
      "metadata": {
        "id": "arXbKw29q5kb"
      },
      "source": [
        "print(\"Printing Dataset Columns: \")\n",
        "print(data.columns)\n",
        "print(\"\\n******************************\\n\")"
      ],
      "execution_count": null,
      "outputs": []
    },
    {
      "cell_type": "code",
      "metadata": {
        "id": "SZE9sUTHukh0"
      },
      "source": [
        "print(\"Printing Dataset Unique Open-Source Projects: \")\n",
        "print(data.project.unique())"
      ],
      "execution_count": null,
      "outputs": []
    },
    {
      "cell_type": "code",
      "metadata": {
        "id": "eVBJTLv1ZlPV"
      },
      "source": [
        "data.drop(indexNames , inplace=True)"
      ],
      "execution_count": null,
      "outputs": []
    },
    {
      "cell_type": "code",
      "metadata": {
        "id": "flP-OlHRZu5u"
      },
      "source": [
        "print(\"Printing Dataset Unique Open-Source Projects: \")\n",
        "print(data.project.unique())"
      ],
      "execution_count": null,
      "outputs": []
    },
    {
      "cell_type": "code",
      "metadata": {
        "id": "vln-PX5jYVk5"
      },
      "source": [
        "print(\"Number of sprints: \\n\")\n",
        "#xd_df.sprint.nunique()\n",
        "print(data.key.unique())\n",
        "print('\\n\\n')\n",
        "print(len(data.key.unique()))"
      ],
      "execution_count": null,
      "outputs": []
    },
    {
      "cell_type": "code",
      "metadata": {
        "id": "SHv2-YLoCOJw"
      },
      "source": [
        "print(data.author.unique())"
      ],
      "execution_count": null,
      "outputs": []
    },
    {
      "cell_type": "code",
      "metadata": {
        "id": "QdV_ZrCj291V"
      },
      "source": [
        "nexus_project = data[data.project == 'nexus']\n",
        "\n",
        "print(\"\\n******************************\\n\")\n",
        "print(\"Printing Nexus Project Initial Descriptives: \\n\")\n",
        "print(nexus_project.describe())\n",
        "\n",
        "\n",
        "print(\"\\n******************************\\n\")\n",
        "print(\"Printing Nexus Project Unique Values and their Count: \\n\")\n",
        "print(nexus_project['storypoints'].value_counts())\n",
        "\n",
        "print(\"\\n******************************\\n\")\n",
        "print(\"Printing the row (issue) where the number of story points is 15 \\n\")\n",
        "print(nexus_project.loc[nexus_project['storypoints'] == 15])"
      ],
      "execution_count": null,
      "outputs": []
    },
    {
      "cell_type": "code",
      "metadata": {
        "id": "KDvl3vXG49DH"
      },
      "source": [
        "print(\"\\n Check the unique developers (usernames) in the Nexus Open-Source Project \\n\")\n",
        "nexus_project['assignee.name'].unique()"
      ],
      "execution_count": null,
      "outputs": []
    },
    {
      "cell_type": "code",
      "metadata": {
        "id": "V8F3TysT2icK"
      },
      "source": [
        "print(\"\\n Exploring the data field: Created, i.e. date when the issues were created. \\n\")\n",
        "print(nexus_project['created'])"
      ],
      "execution_count": null,
      "outputs": []
    },
    {
      "cell_type": "markdown",
      "metadata": {
        "id": "asiQCZTtyRY5"
      },
      "source": [
        "## **Exporting project data to separate datasets:**"
      ]
    },
    {
      "cell_type": "code",
      "metadata": {
        "id": "hOEW4l5f8-_D"
      },
      "source": [
        "print(\"\\n Exporting the XD Project's Data to its own Dataset \\n\")\n",
        "xd_project = data[data.project == 'xd']\n",
        "xd_project.to_csv('xd_dataframe.csv', index = False, header=True)"
      ],
      "execution_count": null,
      "outputs": []
    },
    {
      "cell_type": "code",
      "metadata": {
        "id": "W2A8LI6m9Acf"
      },
      "source": [
        "print(\"\\n Exporting the Apstud Project's Data to its own Dataset \\n\")\n",
        "apstud_project = data[data.project == 'apstud']\n",
        "apstud_project.to_csv('apstud_dataframe.csv', index = False, header=True)\n",
        "print(\"\\n DONE! \\n\")"
      ],
      "execution_count": null,
      "outputs": []
    },
    {
      "cell_type": "code",
      "metadata": {
        "id": "Xe3qqxpPKK3j"
      },
      "source": [
        "print(\"\\n Exporting the Tistud Project's Data to its own Dataset \\n\")\n",
        "tistud_project = data[data.project == 'tistud']\n",
        "tistud_project.to_csv('tistud_dataframe.csv', index = False, header=True)\n",
        "print(\"\\n tistud DONE! \\n\")"
      ],
      "execution_count": null,
      "outputs": []
    },
    {
      "cell_type": "code",
      "metadata": {
        "id": "WUJWJimCM8Dz"
      },
      "source": [
        "print(\"\\n Exporting the MOBILE Project's Data to its own Dataset \\n\")\n",
        "mobile_project = data[data.project == 'MOBILE']\n",
        "mobile_project.to_csv('mobile_dataframe.csv', index = False, header=True)\n",
        "print(\"\\n MOBILE DONE! \\n\")"
      ],
      "execution_count": null,
      "outputs": []
    },
    {
      "cell_type": "code",
      "metadata": {
        "id": "g7GAYL9sK-Om"
      },
      "source": [
        "print(\"\\n Exporting the MDL Project's Data to its own Dataset \\n\")\n",
        "mdl_project = data[data.project == 'MDL']\n",
        "mdl_project.to_csv('mdl_dataframe.csv', index = False, header=True)\n",
        "print(\"\\n MDL DONE! \\n\")"
      ],
      "execution_count": null,
      "outputs": []
    },
    {
      "cell_type": "code",
      "metadata": {
        "id": "4R9WQj5MhzYA"
      },
      "source": [
        "print(\"\\n Exporting the DNN Project's Data to its own Dataset \\n\")\n",
        "dnn_project = data[data.project == 'dnn']\n",
        "dnn_project.to_csv('dnn_dataframe.csv', index = False, header=True)\n",
        "print(\"\\n DNN DONE! \\n\")"
      ],
      "execution_count": null,
      "outputs": []
    },
    {
      "cell_type": "code",
      "metadata": {
        "id": "oeiqI0nt9A_7"
      },
      "source": [
        "print(\"\\n Exporting the Mesos Project's Data to its own Dataset \\n\")\n",
        "mesos_project = data[data.project == 'mesos']\n",
        "mesos_project.to_csv('mesos_dataframe.csv', index = False, header=True)\n",
        "print(\"\\n DONE! \\n\")"
      ],
      "execution_count": null,
      "outputs": []
    },
    {
      "cell_type": "code",
      "metadata": {
        "id": "V2aPwPeM9BjO"
      },
      "source": [
        "print(\"\\n Exporting the Mule Project's Data to its own Dataset \\n\")\n",
        "mule_project = data[data.project == 'mule']\n",
        "mule_project.to_csv('mule_dataframe.csv', index = False, header=True)\n",
        "print(\"\\n DONE! \\n\")"
      ],
      "execution_count": null,
      "outputs": []
    },
    {
      "cell_type": "code",
      "metadata": {
        "id": "5E0qslj1s3FA"
      },
      "source": [
        "print(\"\\n Exporting the Nexus Project's Data to its own Dataset \\n\")\n",
        "nexus_project = data[data.project == 'nexus']\n",
        "nexus_project.to_csv('nexus_dataframe.csv', index = False, header=True)"
      ],
      "execution_count": null,
      "outputs": []
    },
    {
      "cell_type": "code",
      "metadata": {
        "id": "GiagAp7S9CBy"
      },
      "source": [
        "print(\"\\n Exporting the Timob Project's Data to its own Dataset \\n\")\n",
        "timob_project = data[data.project == 'timob']\n",
        "timob_project.to_csv('timob_dataframe.csv', index = False, header=True)\n",
        "print(\"\\n timob DONE! \\n\")"
      ],
      "execution_count": null,
      "outputs": []
    },
    {
      "cell_type": "markdown",
      "metadata": {
        "id": "IxbvCQE38YLQ"
      },
      "source": [
        "## **Exporting project changelog data to separate datasets:**"
      ]
    },
    {
      "cell_type": "code",
      "metadata": {
        "id": "OjoUyuQC8c5C"
      },
      "source": [
        "print(\"\\n Exporting the XD Project's Data to its own Dataset \\n\")\n",
        "xd_project = data[data.project == 'xd']\n",
        "xd_project.to_csv('xd_dataframe.csv', index = False, header=True)"
      ],
      "execution_count": null,
      "outputs": []
    },
    {
      "cell_type": "code",
      "metadata": {
        "id": "iHtRNohb8eZZ"
      },
      "source": [
        "print(\"\\n Exporting the Apstud Project's Data to its own Dataset \\n\")\n",
        "apstud_project = data[data.project == 'apstud']\n",
        "apstud_project.to_csv('apstud_dataframe.csv', index = False, header=True)\n",
        "print(\"\\n DONE! \\n\")"
      ],
      "execution_count": null,
      "outputs": []
    },
    {
      "cell_type": "code",
      "metadata": {
        "id": "TcWsgo3b8eUc"
      },
      "source": [
        "print(\"\\n Exporting the Tistud Project's Data to its own Dataset \\n\")\n",
        "tistud_project = data[data.project == 'tistud']\n",
        "tistud_project.to_csv('tistud_dataframe.csv', index = False, header=True)\n",
        "print(\"\\n tistud DONE! \\n\")"
      ],
      "execution_count": null,
      "outputs": []
    },
    {
      "cell_type": "code",
      "metadata": {
        "id": "azRiXF2X8eQC"
      },
      "source": [
        "print(\"\\n Exporting the MOBILE Project's Data to its own Dataset \\n\")\n",
        "mobile_project = data[data.project == 'MOBILE']\n",
        "mobile_project.to_csv('mobile_dataframe.csv', index = False, header=True)\n",
        "print(\"\\n MOBILE DONE! \\n\")"
      ],
      "execution_count": null,
      "outputs": []
    },
    {
      "cell_type": "code",
      "metadata": {
        "id": "KqRrTwCU8eL_"
      },
      "source": [
        "print(\"\\n Exporting the MDL Project's Data to its own Dataset \\n\")\n",
        "mdl_project = data[data.project == 'MDL']\n",
        "mdl_project.to_csv('mdl_dataframe.csv', index = False, header=True)\n",
        "print(\"\\n MDL DONE! \\n\")"
      ],
      "execution_count": null,
      "outputs": []
    },
    {
      "cell_type": "code",
      "metadata": {
        "id": "1hsdRb998eGv"
      },
      "source": [
        "print(\"\\n Exporting the DNN Project's Data to its own Dataset \\n\")\n",
        "dnn_project = data[data.project == 'dnn']\n",
        "dnn_project.to_csv('dnn_dataframe.csv', index = False, header=True)\n",
        "print(\"\\n DNN DONE! \\n\")"
      ],
      "execution_count": null,
      "outputs": []
    },
    {
      "cell_type": "code",
      "metadata": {
        "id": "oOqKCsS98eA5"
      },
      "source": [
        "print(\"\\n Exporting the Mesos Project's Data to its own Dataset \\n\")\n",
        "mesos_project = data[data.project == 'mesos']\n",
        "mesos_project.to_csv('mesos_dataframe.csv', index = False, header=True)\n",
        "print(\"\\n DONE! \\n\")"
      ],
      "execution_count": null,
      "outputs": []
    },
    {
      "cell_type": "code",
      "metadata": {
        "id": "6tH1IYHj8d6X"
      },
      "source": [
        "print(\"\\n Exporting the Mule Project's Data to its own Dataset \\n\")\n",
        "mule_project = data[data.project == 'mule']\n",
        "mule_project.to_csv('mule_dataframe.csv', index = False, header=True)\n",
        "print(\"\\n DONE! \\n\")"
      ],
      "execution_count": null,
      "outputs": []
    },
    {
      "cell_type": "code",
      "metadata": {
        "id": "MNGZHIY38dx5"
      },
      "source": [
        "print(\"\\n Exporting the Nexus Project's Data to its own Dataset \\n\")\n",
        "nexus_project = data[data.project == 'nexus']\n",
        "nexus_project.to_csv('nexus_dataframe.csv', index = False, header=True)"
      ],
      "execution_count": null,
      "outputs": []
    },
    {
      "cell_type": "code",
      "metadata": {
        "id": "xN-QyXS78gFl"
      },
      "source": [
        "print(\"\\n Exporting the Timob Project's Data to its own Dataset \\n\")\n",
        "timob_project = data[data.project == 'timob']\n",
        "timob_project.to_csv('timob_dataframe.csv', index = False, header=True)\n",
        "print(\"\\n timob DONE! \\n\")"
      ],
      "execution_count": null,
      "outputs": []
    }
  ]
}